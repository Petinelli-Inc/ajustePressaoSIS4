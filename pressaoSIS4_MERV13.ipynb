{
  "nbformat": 4,
  "nbformat_minor": 0,
  "metadata": {
    "colab": {
      "name": "pressaoSIS4_MERV13.ipynb",
      "provenance": [],
      "collapsed_sections": [],
      "authorship_tag": "ABX9TyOo+SJASfuXxekAuRdg3U9I",
      "include_colab_link": true
    },
    "kernelspec": {
      "name": "python3",
      "display_name": "Python 3"
    },
    "language_info": {
      "name": "python"
    }
  },
  "cells": [
    {
      "cell_type": "markdown",
      "metadata": {
        "id": "view-in-github",
        "colab_type": "text"
      },
      "source": [
        "<a href=\"https://colab.research.google.com/github/Petinelli-Inc/ajustePressaoSIS4/blob/main/pressaoSIS4_MERV13.ipynb\" target=\"_parent\"><img src=\"https://colab.research.google.com/assets/colab-badge.svg\" alt=\"Open In Colab\"/></a>"
      ]
    },
    {
      "cell_type": "code",
      "execution_count": 5,
      "metadata": {
        "id": "53Zrvn5sssMx"
      },
      "outputs": [],
      "source": [
        "from eppy.modeleditor import IDF\n",
        "from eppy.results import fasthtml\n",
        "\n",
        "import pprint"
      ]
    },
    {
      "cell_type": "code",
      "source": [
        "iddFile = \"/content/Energy+.idd\"\n",
        "idfFile = \"/content/BS_IMPEX_ADM_R00.idf\"\n",
        "newTable = \"/content/eplustbl.htm\"\n",
        "table = \"/content/BS_IMPEX_ADM_R00Table.html\"\n",
        "epwFile = \"/content/BRA_SC_Florianopolis-Luz.Intl.AP.838990_TMYx.2003-2017.epw\"\n",
        "\n",
        "localPrefix = \"/content\""
      ],
      "metadata": {
        "id": "ibfqPOYlti0U"
      },
      "execution_count": 22,
      "outputs": []
    },
    {
      "cell_type": "code",
      "source": [
        "IDF.setiddname(iddFile)\n",
        "idf = IDF(idfFile, epwFile)\n",
        "pp = pprint.PrettyPrinter()"
      ],
      "metadata": {
        "id": "kEA37a6SuqDd"
      },
      "execution_count": null,
      "outputs": []
    },
    {
      "cell_type": "code",
      "source": [
        "pszhp = idf.idfobjects['HVACTEMPLATE:SYSTEM:UNITARYHEATPUMP:AIRTOAIR']\n",
        "qtdepszhp = len(pszhp)\n",
        "\n",
        "powerFansArray = []\n",
        "pressureFansArray = []\n",
        "fanMechEfficiency = 0.7"
      ],
      "metadata": {
        "id": "DUhK2Rb8wh9q"
      },
      "execution_count": null,
      "outputs": []
    },
    {
      "cell_type": "code",
      "source": [
        "# Função para ajustar pressão conformo a nova FanPower definida\n",
        "def ajustePRESSAO(tableName):\n",
        "    filehandle = open(tableName, 'r')\n",
        "    fansOutput = fasthtml.tablebyname(filehandle, \"Fans\")\n",
        "    fansOutputTable = fansOutput[1]\n",
        "    global powerFansArray, pressureFansArray\n",
        "\n",
        "    filehandle = open(table, 'r')\n",
        "    zoneCooling = fasthtml.tablebyname(filehandle, \"Zone Sensible Cooling\")\n",
        "    zoneCoolingTable = zoneCooling[1]\n",
        "\n",
        "    for n in range(qtdepszhp):\n",
        "        maxAirFlow = fansOutputTable[n+1][4]\n",
        "        maxAirFlowCFM = round(maxAirFlow * 2118.88, 2) \n",
        "        filterMERV13 = round((zoneCoolingTable[13] * 21188.88) * 0.9, 5)\n",
        "        bhp = (maxAirFlowCFM * 0.00094) + filterMERV13     \n",
        "\n",
        "        if bhp <= 1.00:\n",
        "            fanMotorEfficiency = 0.825\n",
        "        if 1.00 < bhp <= 2.00 :\n",
        "            fanMotorEfficiency = 0.84\n",
        "        if 2.00 < bhp <= 5.00:\n",
        "            fanMotorEfficiency = 0.875\n",
        "        if 5.00 < bhp <= 10:\n",
        "            fanMotorEfficiency = 0.895\n",
        "        if 10 < bhp <= 20:\n",
        "            fanMotorEfficiency = 0.91\n",
        "        if 20 < bhp <= 30:\n",
        "            fanMotorEfficiency = 0.924\n",
        "        if 30 < bhp <= 50:\n",
        "            fanMotorEfficiency = 0.93\n",
        "        if 50 < bhp <= 60:\n",
        "            fanMotorEfficiency = 0.936\n",
        "        if 60 < bhp <= 75:\n",
        "            fanMotorEfficiency = 0.941\n",
        "        if 75 < bhp <= 125:\n",
        "            fanMotorEfficiency = 0.945\n",
        "        if 125 < bhp <= 200:\n",
        "            fanMotorEfficiency = 0.95\n",
        "        \n",
        "        powerfanWATT = round(bhp * (746 / fanMotorEfficiency), 8)\n",
        "        newPressure = round(powerfanWATT * fanMechEfficiency / (maxAirFlow), 8)\n",
        "        powerFansArray.append(powerfanWATT)\n",
        "        pressureFansArray.append(newPressure)\n",
        "        pszhp[n].Supply_Fan_Delta_Pressure = newPressure\n",
        "        pszhp[n].Supply_Fan_Motor_Efficiency = fanMotorEfficiency\n",
        "\n",
        "        print(\"System Name: \" + fansOutputTable[n+1][0])\n",
        "        print(\"Adjusted Pressure: \" + str(newPressure))\n",
        "    idf.save()\n",
        "    "
      ],
      "metadata": {
        "id": "nJmNWxrFvVOl"
      },
      "execution_count": 8,
      "outputs": []
    },
    {
      "cell_type": "code",
      "source": [
        "def segundoAjuste(tableName):\n",
        "    filehandle = open(tableName, 'r')\n",
        "    fansOutput = fasthtml.tablebyname(filehandle, \"Fans\")\n",
        "    fansOutputTable = fansOutput[1]\n",
        "\n",
        "    global powerFansArray, pressureFansArray, pszhp\n",
        "    \n",
        "    print(\"New values from ajusted table:\")\n",
        "    for n in range(qtdepszhp):\n",
        "        newSecPressure = round((powerFansArray[n] * pressureFansArray[n]) / fansOutputTable[n+1][5], 8)\n",
        "\n",
        "        print(\"System Name: \" + fansOutputTable[n+1][0])\n",
        "        print(\"New Pressure: \" + str(newSecPressure))\n",
        "\n",
        "        pszhp[n].Supply_Fan_Delta_Pressure = newSecPressure\n",
        "    idf.saveas(localPrefix + \"\\pressureAdjusted.idf\")\n"
      ],
      "metadata": {
        "id": "erq3lukbv6RD"
      },
      "execution_count": 13,
      "outputs": []
    },
    {
      "cell_type": "code",
      "source": [
        "ajustePRESSAO(table)\n",
        "idf.run(output_directory='D:\\DADOS\\Desktop\\Python\\idf\\SIS4')\n",
        "segundoAjuste(newTable)\n"
      ],
      "metadata": {
        "id": "c_ZE8sFIv8wA"
      },
      "execution_count": null,
      "outputs": []
    }
  ]
}