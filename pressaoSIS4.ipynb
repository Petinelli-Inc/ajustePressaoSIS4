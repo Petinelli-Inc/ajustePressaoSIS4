{
  "nbformat": 4,
  "nbformat_minor": 0,
  "metadata": {
    "colab": {
      "name": "pressaoSIS4.ipynb",
      "provenance": [],
      "collapsed_sections": [],
      "authorship_tag": "ABX9TyNrPk/hseZuIX/vSL+/9j07",
      "include_colab_link": true
    },
    "kernelspec": {
      "name": "python3",
      "display_name": "Python 3"
    },
    "language_info": {
      "name": "python"
    }
  },
  "cells": [
    {
      "cell_type": "markdown",
      "metadata": {
        "id": "view-in-github",
        "colab_type": "text"
      },
      "source": [
        "<a href=\"https://colab.research.google.com/github/Petinelli-Inc/ajustePressaoSIS4/blob/main/pressaoSIS4.ipynb\" target=\"_parent\"><img src=\"https://colab.research.google.com/assets/colab-badge.svg\" alt=\"Open In Colab\"/></a>"
      ]
    },
    {
      "cell_type": "code",
      "execution_count": 5,
      "metadata": {
        "id": "53Zrvn5sssMx"
      },
      "outputs": [],
      "source": [
        "from eppy.modeleditor import IDF\n",
        "from eppy.results import fasthtml\n",
        "\n",
        "import pprint"
      ]
    },
    {
      "cell_type": "code",
      "source": [
        "iddFile = \"/content/Energy+.idd\"\n",
        "idfFile = \"/content/BS_IMPEX_ADM_R00.idf\"\n",
        "newTable = \"/content/eplustbl.htm\"\n",
        "table = \"/content/BS_IMPEX_ADM_R00Table.html\"\n",
        "epwFile = \"/content/BRA_SC_Florianopolis-Luz.Intl.AP.838990_TMYx.2003-2017.epw\"\n",
        "\n",
        "localPrefix = \"/content\""
      ],
      "metadata": {
        "id": "ibfqPOYlti0U"
      },
      "execution_count": 22,
      "outputs": []
    },
    {
      "cell_type": "code",
      "source": [
        "IDF.setiddname(iddFile)\n",
        "idf = IDF(idfFile, epwFile)\n",
        "pp = pprint.PrettyPrinter()"
      ],
      "metadata": {
        "colab": {
          "base_uri": "https://localhost:8080/",
          "height": 321
        },
        "id": "kEA37a6SuqDd",
        "outputId": "a0b160e2-6fb0-4604-acbc-6e2c32c299ac"
      },
      "execution_count": 23,
      "outputs": [
        {
          "output_type": "error",
          "ename": "IDDAlreadySetError",
          "evalue": "ignored",
          "traceback": [
            "\u001b[0;31m---------------------------------------------------------------------------\u001b[0m",
            "\u001b[0;31mIDDAlreadySetError\u001b[0m                        Traceback (most recent call last)",
            "\u001b[0;32m<ipython-input-23-85fd32d38b57>\u001b[0m in \u001b[0;36m<module>\u001b[0;34m\u001b[0m\n\u001b[0;32m----> 1\u001b[0;31m \u001b[0mIDF\u001b[0m\u001b[0;34m.\u001b[0m\u001b[0msetiddname\u001b[0m\u001b[0;34m(\u001b[0m\u001b[0middFile\u001b[0m\u001b[0;34m)\u001b[0m\u001b[0;34m\u001b[0m\u001b[0;34m\u001b[0m\u001b[0m\n\u001b[0m\u001b[1;32m      2\u001b[0m \u001b[0midf\u001b[0m \u001b[0;34m=\u001b[0m \u001b[0mIDF\u001b[0m\u001b[0;34m(\u001b[0m\u001b[0midfFile\u001b[0m\u001b[0;34m,\u001b[0m \u001b[0mepwFile\u001b[0m\u001b[0;34m)\u001b[0m\u001b[0;34m\u001b[0m\u001b[0;34m\u001b[0m\u001b[0m\n\u001b[1;32m      3\u001b[0m \u001b[0mpp\u001b[0m \u001b[0;34m=\u001b[0m \u001b[0mpprint\u001b[0m\u001b[0;34m.\u001b[0m\u001b[0mPrettyPrinter\u001b[0m\u001b[0;34m(\u001b[0m\u001b[0;34m)\u001b[0m\u001b[0;34m\u001b[0m\u001b[0;34m\u001b[0m\u001b[0m\n",
            "\u001b[0;32m/usr/local/lib/python3.7/dist-packages/eppy/modeleditor.py\u001b[0m in \u001b[0;36msetiddname\u001b[0;34m(cls, iddname, testing)\u001b[0m\n\u001b[1;32m    586\u001b[0m             \u001b[0;32mif\u001b[0m \u001b[0mtesting\u001b[0m \u001b[0;34m==\u001b[0m \u001b[0;32mFalse\u001b[0m\u001b[0;34m:\u001b[0m\u001b[0;34m\u001b[0m\u001b[0;34m\u001b[0m\u001b[0m\n\u001b[1;32m    587\u001b[0m                 \u001b[0merrortxt\u001b[0m \u001b[0;34m=\u001b[0m \u001b[0;34m\"IDD file is set to: %s\"\u001b[0m \u001b[0;34m%\u001b[0m \u001b[0;34m(\u001b[0m\u001b[0mcls\u001b[0m\u001b[0;34m.\u001b[0m\u001b[0middname\u001b[0m\u001b[0;34m,\u001b[0m\u001b[0;34m)\u001b[0m\u001b[0;34m\u001b[0m\u001b[0;34m\u001b[0m\u001b[0m\n\u001b[0;32m--> 588\u001b[0;31m                 \u001b[0;32mraise\u001b[0m \u001b[0mIDDAlreadySetError\u001b[0m\u001b[0;34m(\u001b[0m\u001b[0merrortxt\u001b[0m\u001b[0;34m)\u001b[0m\u001b[0;34m\u001b[0m\u001b[0;34m\u001b[0m\u001b[0m\n\u001b[0m\u001b[1;32m    589\u001b[0m \u001b[0;34m\u001b[0m\u001b[0m\n\u001b[1;32m    590\u001b[0m     \u001b[0;34m@\u001b[0m\u001b[0mclassmethod\u001b[0m\u001b[0;34m\u001b[0m\u001b[0;34m\u001b[0m\u001b[0m\n",
            "\u001b[0;31mIDDAlreadySetError\u001b[0m: IDD file is set to: C:\\EnergyPlusV9-6-0\\Energy+.idd"
          ]
        }
      ]
    },
    {
      "cell_type": "code",
      "source": [
        "pszhp = idf.idfobjects['HVACTEMPLATE:SYSTEM:UNITARYHEATPUMP:AIRTOAIR']\n",
        "qtdepszhp = len(pszhp)\n",
        "\n",
        "powerFansArray = []\n",
        "pressureFansArray = []\n",
        "fanMechEfficiency = 0.7"
      ],
      "metadata": {
        "id": "DUhK2Rb8wh9q"
      },
      "execution_count": null,
      "outputs": []
    },
    {
      "cell_type": "code",
      "source": [
        "# Função para ajustar pressão conformo a nova FanPower definida\n",
        "def ajustePRESSAO(tableName):\n",
        "    filehandle = open(tableName, 'r')\n",
        "    fansOutput = fasthtml.tablebyname(filehandle, \"Fans\")\n",
        "    fansOutputTable = fansOutput[1]\n",
        "    global powerFansArray, pressureFansArray\n",
        "\n",
        "    # filehandle = open(table, 'r')\n",
        "    # zoneCooling = fasthtml.tablebyname(filehandle, \"Zone Sensible Cooling\")\n",
        "    # zoneCoolingTable = zoneCooling[1]\n",
        "    # pp.pprint(zoneCoolingTable)\n",
        "\n",
        "    for n in range(qtdepszhp):\n",
        "        maxAirFlow = fansOutputTable[n+1][4]\n",
        "        maxAirFlowCFM = round(maxAirFlow * 2118.88, 2)      \n",
        "        bhp = (maxAirFlowCFM * 0.00094)\n",
        "\n",
        "        if bhp <= 1.00:\n",
        "            fanMotorEfficiency = 0.825\n",
        "        if 1.00 < bhp <= 2.00 :\n",
        "            fanMotorEfficiency = 0.84\n",
        "        if 2.00 < bhp <= 5.00:\n",
        "            fanMotorEfficiency = 0.875\n",
        "        if 5.00 < bhp <= 10:\n",
        "            fanMotorEfficiency = 0.895\n",
        "        if 10 < bhp <= 20:\n",
        "            fanMotorEfficiency = 0.91\n",
        "        if 20 < bhp <= 30:\n",
        "            fanMotorEfficiency = 0.924\n",
        "        if 30 < bhp <= 50:\n",
        "            fanMotorEfficiency = 0.93\n",
        "        if 50 < bhp <= 60:\n",
        "            fanMotorEfficiency = 0.936\n",
        "        if 60 < bhp <= 75:\n",
        "            fanMotorEfficiency = 0.941\n",
        "        if 75 < bhp <= 125:\n",
        "            fanMotorEfficiency = 0.945\n",
        "        if 125 < bhp <= 200:\n",
        "            fanMotorEfficiency = 0.95\n",
        "        \n",
        "        powerfanWATT = round(bhp * (746 / fanMotorEfficiency), 8)\n",
        "        newPressure = round(powerfanWATT * fanMechEfficiency / (maxAirFlow), 8)\n",
        "        powerFansArray.append(powerfanWATT)\n",
        "        pressureFansArray.append(newPressure)\n",
        "        pszhp[n].Supply_Fan_Delta_Pressure = newPressure\n",
        "        pszhp[n].Supply_Fan_Motor_Efficiency = fanMotorEfficiency\n",
        "\n",
        "        print(\"System Name: \" + fansOutputTable[n+1][0])\n",
        "        print(\"Adjusted Pressure: \" + str(newPressure))\n",
        "    idf.save()\n",
        "    "
      ],
      "metadata": {
        "id": "nJmNWxrFvVOl"
      },
      "execution_count": 8,
      "outputs": []
    },
    {
      "cell_type": "code",
      "source": [
        "def segundoAjuste(tableName):\n",
        "    filehandle = open(tableName, 'r')\n",
        "    fansOutput = fasthtml.tablebyname(filehandle, \"Fans\")\n",
        "    fansOutputTable = fansOutput[1]\n",
        "\n",
        "    global powerFansArray, pressureFansArray, pszhp\n",
        "    \n",
        "    print(\"New values from ajusted table:\")\n",
        "    for n in range(qtdepszhp):\n",
        "        newSecPressure = round((powerFansArray[n] * pressureFansArray[n]) / fansOutputTable[n+1][5], 8)\n",
        "\n",
        "        print(\"System Name: \" + fansOutputTable[n+1][0])\n",
        "        print(\"New Pressure: \" + str(newSecPressure))\n",
        "\n",
        "        pszhp[n].Supply_Fan_Delta_Pressure = newSecPressure\n",
        "    idf.saveas(localPrefix + \"\\pressureAdjusted.idf\")\n"
      ],
      "metadata": {
        "id": "erq3lukbv6RD"
      },
      "execution_count": 13,
      "outputs": []
    },
    {
      "cell_type": "code",
      "source": [
        "ajustePRESSAO(table)\n",
        "idf.run(output_directory='D:\\DADOS\\Desktop\\Python\\idf\\SIS4')\n",
        "segundoAjuste(newTable)\n"
      ],
      "metadata": {
        "colab": {
          "base_uri": "https://localhost:8080/",
          "height": 356
        },
        "id": "c_ZE8sFIv8wA",
        "outputId": "b71cda39-c4f7-43ff-d9b2-364fbf253398"
      },
      "execution_count": 14,
      "outputs": [
        {
          "output_type": "error",
          "ename": "NameError",
          "evalue": "ignored",
          "traceback": [
            "\u001b[0;31m---------------------------------------------------------------------------\u001b[0m",
            "\u001b[0;31mNameError\u001b[0m                                 Traceback (most recent call last)",
            "\u001b[0;32m<ipython-input-14-381682ce3922>\u001b[0m in \u001b[0;36m<module>\u001b[0;34m\u001b[0m\n\u001b[0;32m----> 1\u001b[0;31m \u001b[0majustePRESSAO\u001b[0m\u001b[0;34m(\u001b[0m\u001b[0mtable\u001b[0m\u001b[0;34m)\u001b[0m\u001b[0;34m\u001b[0m\u001b[0;34m\u001b[0m\u001b[0m\n\u001b[0m\u001b[1;32m      2\u001b[0m \u001b[0mprint\u001b[0m\u001b[0;34m(\u001b[0m\u001b[0mpszhp\u001b[0m\u001b[0;34m)\u001b[0m\u001b[0;34m\u001b[0m\u001b[0;34m\u001b[0m\u001b[0m\n\u001b[1;32m      3\u001b[0m \u001b[0midf\u001b[0m\u001b[0;34m.\u001b[0m\u001b[0mrun\u001b[0m\u001b[0;34m(\u001b[0m\u001b[0moutput_directory\u001b[0m\u001b[0;34m=\u001b[0m\u001b[0;34m'D:\\DADOS\\Desktop\\Python\\idf\\SIS4'\u001b[0m\u001b[0;34m)\u001b[0m\u001b[0;34m\u001b[0m\u001b[0;34m\u001b[0m\u001b[0m\n\u001b[1;32m      4\u001b[0m \u001b[0msegundoAjuste\u001b[0m\u001b[0;34m(\u001b[0m\u001b[0mnewTable\u001b[0m\u001b[0;34m)\u001b[0m\u001b[0;34m\u001b[0m\u001b[0;34m\u001b[0m\u001b[0m\n\u001b[1;32m      5\u001b[0m \u001b[0mprint\u001b[0m\u001b[0;34m(\u001b[0m\u001b[0mpszhp\u001b[0m\u001b[0;34m)\u001b[0m\u001b[0;34m\u001b[0m\u001b[0;34m\u001b[0m\u001b[0m\n",
            "\u001b[0;32m<ipython-input-8-6a8577604f43>\u001b[0m in \u001b[0;36majustePRESSAO\u001b[0;34m(tableName)\u001b[0m\n\u001b[1;32m     11\u001b[0m     \u001b[0;31m# pp.pprint(zoneCoolingTable)\u001b[0m\u001b[0;34m\u001b[0m\u001b[0;34m\u001b[0m\u001b[0;34m\u001b[0m\u001b[0m\n\u001b[1;32m     12\u001b[0m \u001b[0;34m\u001b[0m\u001b[0m\n\u001b[0;32m---> 13\u001b[0;31m     \u001b[0;32mfor\u001b[0m \u001b[0mn\u001b[0m \u001b[0;32min\u001b[0m \u001b[0mrange\u001b[0m\u001b[0;34m(\u001b[0m\u001b[0mqtdepszhp\u001b[0m\u001b[0;34m)\u001b[0m\u001b[0;34m:\u001b[0m\u001b[0;34m\u001b[0m\u001b[0;34m\u001b[0m\u001b[0m\n\u001b[0m\u001b[1;32m     14\u001b[0m         \u001b[0mmaxAirFlow\u001b[0m \u001b[0;34m=\u001b[0m \u001b[0mfansOutputTable\u001b[0m\u001b[0;34m[\u001b[0m\u001b[0mn\u001b[0m\u001b[0;34m+\u001b[0m\u001b[0;36m1\u001b[0m\u001b[0;34m]\u001b[0m\u001b[0;34m[\u001b[0m\u001b[0;36m4\u001b[0m\u001b[0;34m]\u001b[0m\u001b[0;34m\u001b[0m\u001b[0;34m\u001b[0m\u001b[0m\n\u001b[1;32m     15\u001b[0m         \u001b[0mmaxAirFlowCFM\u001b[0m \u001b[0;34m=\u001b[0m \u001b[0mround\u001b[0m\u001b[0;34m(\u001b[0m\u001b[0mmaxAirFlow\u001b[0m \u001b[0;34m*\u001b[0m \u001b[0;36m2118.88\u001b[0m\u001b[0;34m,\u001b[0m \u001b[0;36m2\u001b[0m\u001b[0;34m)\u001b[0m\u001b[0;34m\u001b[0m\u001b[0;34m\u001b[0m\u001b[0m\n",
            "\u001b[0;31mNameError\u001b[0m: name 'qtdepszhp' is not defined"
          ]
        }
      ]
    }
  ]
}